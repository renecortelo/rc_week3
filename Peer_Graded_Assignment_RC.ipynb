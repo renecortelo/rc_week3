{
 "cells": [
  {
   "cell_type": "markdown",
   "metadata": {
    "collapsed": true
   },
   "source": [
    "<H1> Data Science Tools and Ecosystem </H1>"
   ]
  },
  {
   "cell_type": "markdown",
   "metadata": {},
   "source": [
    "\n",
    "Throughout this course, we learned about a lot of different tools, languages and libraries for Data Science. <br>\n",
    "We'll summarize some of them below."
   ]
  },
  {
   "cell_type": "markdown",
   "metadata": {},
   "source": [
    "<b>Objectives:</b> <br>\n",
    "<ul>\n",
    "  <li>List popular languages for Data Science.</li>\n",
    "  <li>List popular libraries for Data Science.</li>\n",
    "  <li>List popular tools for Data Science.</li>\n",
    "  <li>Overview Arithmetic Expressions in Python.</li>\n",
    "</ul>\n",
    "    "
   ]
  },
  {
   "cell_type": "markdown",
   "metadata": {},
   "source": [
    "The most common <b>Programming Lnaguages</b> used for <i>Data Science</i> are: <br>\n",
    "<ol>\n",
    "  <li>Python</li>\n",
    "  <li>R</li>\n",
    "  <li>SQL</li>\n",
    "</ol>"
   ]
  },
  {
   "cell_type": "markdown",
   "metadata": {},
   "source": [
    "The most common <b>Libraries</b> used for <i>Data Science</i> are: <br>\n",
    "<ol>\n",
    "  <li>Pandas</li>\n",
    "  <li>Keras</li>\n",
    "  <li>Numpy</li>\n",
    "</ol>"
   ]
  },
  {
   "cell_type": "markdown",
   "metadata": {},
   "source": [
    "The most common <b>Tools</b> used for <i>Data Science</i> are: <br>\n",
    "\n",
    "| Name | Description |\n",
    "| ------ | ------ |\n",
    "| Jupyter | A Jupyter notebook is a browser-based application that allows you to create and share documents that contain code, equations, visualizations, narrative text links, and so much more.  |\n",
    "| RStudio | Rstudio is an integrated development environment that helps improve and increase productivity with the R language.  | cell |\n",
    "| GitHub | Popular environment among developers and data scientists for performing version control of source code files and projects and collaborating with others.  |\n",
    "\n"
   ]
  },
  {
   "cell_type": "markdown",
   "metadata": {},
   "source": [
    "<H2> Arithmetic Expressions in Python </H2>\n",
    "\n",
    "<blockquote cite=\"https://www.scaler.com/topics/expression-in-python/\">\n",
    "An expression in Python that contains a combination of operators, operands, and sometimes parenthesis is known as an arithmetic expression. The result of an arithmetic expression is also a numeric value just like a constant expression.\n",
    "</blockquote>\n",
    "\n",
    "Examples:\n",
    "\n",
    "| Operator | Syntax | Working |\n",
    "| ------ | ------ | ------ |\n",
    "| + | x + y | Addition or summation of x and y. |\n",
    "| * | x * y | Multiplication or product of x and y. |\n",
    "| / | x / y | Division of x and y. |\n",
    "\n",
    "<br>\n",
    "In the following code, we'll add and multiply two numbers stored in variables <i>a</i> and <i>b</i>.<br>\n",
    "Then, we'll show an example of getting how many hours are in a given amount of minutes.\n"
   ]
  },
  {
   "cell_type": "code",
   "execution_count": 6,
   "metadata": {},
   "outputs": [
    {
     "name": "stdout",
     "output_type": "stream",
     "text": [
      "8\n",
      "15\n",
      "1.6666666666666667\n"
     ]
    }
   ],
   "source": [
    "a = 5\n",
    "b = 3\n",
    "#this will print the sum of a and b\n",
    "print(a+b)\n",
    "#this will print the product of a and b\n",
    "print(a*b)\n",
    "#this will print the division of a and b\n",
    "print(a/b)"
   ]
  },
  {
   "cell_type": "code",
   "execution_count": 8,
   "metadata": {},
   "outputs": [
    {
     "name": "stdout",
     "output_type": "stream",
     "text": [
      "3.3333333333333335\n"
     ]
    }
   ],
   "source": [
    "minutes = 200\n",
    "#this will convert 200 minutes to hours dividing by 60\n",
    "hours = minutes/60\n",
    "print(hours)"
   ]
  },
  {
   "cell_type": "markdown",
   "metadata": {},
   "source": [
    "<h2> Author </h2>\n",
    "René Cortés"
   ]
  },
  {
   "cell_type": "code",
   "execution_count": null,
   "metadata": {},
   "outputs": [],
   "source": []
  }
 ],
 "metadata": {
  "kernelspec": {
   "display_name": "Python 3.10",
   "language": "python",
   "name": "python3"
  },
  "language_info": {
   "codemirror_mode": {
    "name": "ipython",
    "version": 3
   },
   "file_extension": ".py",
   "mimetype": "text/x-python",
   "name": "python",
   "nbconvert_exporter": "python",
   "pygments_lexer": "ipython3",
   "version": "3.10.6"
  }
 },
 "nbformat": 4,
 "nbformat_minor": 1
}
