{
  "metadata": {
    "kernelspec": {
      "name": "python",
      "display_name": "Pyolite",
      "language": "python"
    },
    "language_info": {
      "codemirror_mode": {
        "name": "python",
        "version": 3
      },
      "file_extension": ".py",
      "mimetype": "text/x-python",
      "name": "python",
      "nbconvert_exporter": "python",
      "pygments_lexer": "ipython3",
      "version": "3.8"
    }
  },
  "nbformat_minor": 4,
  "nbformat": 4,
  "cells": [
    {
      "cell_type": "markdown",
      "source": "<center>\n    <img src=\"https://cf-courses-data.s3.us.cloud-object-storage.appdomain.cloud/IBMDeveloperSkillsNetwork-DS0105EN-SkillsNetwork/labs/Module2/images/SN_web_lightmode.png\" width=\"300\" alt=\"cognitiveclass.ai logo\">\n</center>\n",
      "metadata": {}
    },
    {
      "cell_type": "markdown",
      "source": "<h1>\"My Jupyter Notebook on IBM Watson Studio\"\n  ",
      "metadata": {}
    },
    {
      "cell_type": "markdown",
      "source": "<b> René Cortés </b>\n<br>\nSoftware Engineer -> Data Scientist",
      "metadata": {}
    },
    {
      "cell_type": "markdown",
      "source": "<i> I am interested in Data Science because I believe Data Driven decisions are the way of doing things successfully. </i>",
      "metadata": {}
    },
    {
      "cell_type": "markdown",
      "source": "<h3> Below, you will find an example of how a for loop works in Python.\n<br> \n<h3> For each char in a string, print its ASCII value.",
      "metadata": {}
    },
    {
      "cell_type": "code",
      "source": "s = \"My string.\"\nfor x in s:\n    print(ord(x))",
      "metadata": {
        "trusted": true
      },
      "execution_count": 3,
      "outputs": [
        {
          "name": "stdout",
          "text": "77\n121\n32\n115\n116\n114\n105\n110\n103\n46\n",
          "output_type": "stream"
        }
      ]
    },
    {
      "cell_type": "markdown",
      "source": "<H3> Here are 2 sites for further reference on a Python For Loop. </H3> <br>\n\n| W3 | Wiki |\n| ------ | ------ |\n| <a href=\"https://www.w3schools.com/python/python_for_loops.asp\">Go To</a> | <a href=\"https://wiki.python.org/moin/ForLoop\">Go To</a> |\n\n<H3> Rem\n<blockquote cite=\"https://realpython.com/python-for-loop/\">\nIn Python, iterable means an object can be used in iteration. The term is used as:\nAn adjective: An object may be described as iterable.\nA noun: An object may be characterized as an iterable.\nIf an object is iterable, it can be passed to the built-in Python function iter(), which returns something called an iterator.\n</blockquote>",
      "metadata": {}
    }
  ]
}